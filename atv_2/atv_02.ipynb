{
 "cells": [
  {
   "cell_type": "markdown",
   "id": "2de0eee4",
   "metadata": {},
   "source": [
    "1- Conversor de Moeda\n",
    "Crie um programa que converte um valor em reais para dólares e euros. Use os seguintes dados:\n",
    "\n",
    "* Valor em reais: R$ 100.00\n",
    "* Taxa do dólar: R$ 5.20\n",
    "* Taxa do euro: R$ 6.15\n",
    "O programa deve calcular e exibir os valores convertidos, arredondando para duas casas decimais."
   ]
  },
  {
   "cell_type": "code",
   "execution_count": 27,
   "id": "8432d98b",
   "metadata": {},
   "outputs": [
    {
     "name": "stdout",
     "output_type": "stream",
     "text": [
      "Valor em reais R$ 100.00 convertídos para outras moedas:\n",
      "Valor em dólares: US$ 19.23\n",
      "Valor em euros: € 16.26\n"
     ]
    }
   ],
   "source": [
    "valor_reais = 100.00\n",
    "taxa_dolar = 5.20\n",
    "taxa_euro = 6.15\n",
    "\n",
    "valor_dolar = round(valor_reais / taxa_dolar, 2)\n",
    "valor_euro = round(valor_reais / taxa_euro, 2)\n",
    "\n",
    "print(f\"Valor em reais R$ {valor_reais:.2f} convertídos para outras moedas:\")\n",
    "print(f\"Valor em dólares: US$ {valor_dolar}\")\n",
    "print(f\"Valor em euros: € {valor_euro}\")"
   ]
  },
  {
   "cell_type": "markdown",
   "id": "4723671e",
   "metadata": {},
   "source": [
    "2- Calculadora de Desconto\n",
    "Desenvolva um programa que calcula o desconto em uma loja. Use as seguintes informações:\n",
    "\n",
    "* Nome do produto: \"Camiseta\"\n",
    "* Preço original: R$ 50.00\n",
    "* Porcentagem de desconto: 20%\n",
    "O programa deve calcular o valor do desconto e o preço final, exibindo todos os detalhes."
   ]
  },
  {
   "cell_type": "code",
   "execution_count": 28,
   "id": "841e50e6",
   "metadata": {},
   "outputs": [
    {
     "name": "stdout",
     "output_type": "stream",
     "text": [
      "O preço original era R$50.00, mas com desconto de 20%, o preço final da camiseta é R$40.00 \n"
     ]
    }
   ],
   "source": [
    "camiseta = 50\n",
    "desconto = 0.20\n",
    "\n",
    "preco_final_camiseta = camiseta * (1 - desconto)\n",
    "print(f\"O preço original era R${camiseta:.2f}, mas com desconto de {int(desconto * 100)}%, o preço final da camiseta é R${preco_final_camiseta:.2f} \")\n"
   ]
  },
  {
   "cell_type": "markdown",
   "id": "128a63fe",
   "metadata": {},
   "source": [
    "3- Calculadora de Média Escolar\n",
    "Crie um programa que calcula a média escolar de um aluno. Use as seguintes notas:\n",
    "\n",
    "* Nota 1: 7.5\n",
    "* Nota 2: 8.0\n",
    "* Nota 3: 6.5\n",
    "O programa deve calcular a média e exibir todas as notas e o resultado final, arredondando para duas casas decimais.\n"
   ]
  },
  {
   "cell_type": "code",
   "execution_count": null,
   "id": "3ee1e510",
   "metadata": {},
   "outputs": [
    {
     "name": "stdout",
     "output_type": "stream",
     "text": [
      " O aluno obete as notas 7.5, 8.0 e 6.5. A média das notas é: 7.33\n"
     ]
    }
   ],
   "source": [
    "nota_1 = 7.5\n",
    "nota_2 = 8.0\n",
    "nota_3  = 6.5\n",
    "media = (nota_1 + nota_2 + nota_3) / 3\n",
    "print(f\" O aluno obteve as notas {nota_1}, {nota_2} e {nota_3}. A média das notas é: {media:.2f}\")  "
   ]
  },
  {
   "cell_type": "markdown",
   "id": "10fbadf4",
   "metadata": {},
   "source": [
    "4- Calculadora de Consumo de Combustível\n",
    "Desenvolva um programa que calcula o consumo médio de combustível de um veículo. Use os seguintes dados:\n",
    "\n",
    "* Distância percorrida: 300 km\n",
    "* Combustível gasto: 25 litros\n",
    "O programa deve calcular o consumo médio (km/l) e exibir todos os dados da viagem, incluindo o resultado final arredondado para duas casas decimais."
   ]
  },
  {
   "cell_type": "code",
   "execution_count": 30,
   "id": "8521b575",
   "metadata": {},
   "outputs": [
    {
     "name": "stdout",
     "output_type": "stream",
     "text": [
      "A distância percorrida foi 300 km o combustível gasto foi de 25 litros, gerando um consumo médio do veículo de 12.00 km/l\n"
     ]
    }
   ],
   "source": [
    "dis_percorrida = 300\n",
    "combustivel_gasto = 25\n",
    "consumo_medio = dis_percorrida / combustivel_gasto\n",
    "print(f\"A distância percorrida foi {dis_percorrida} km o combustível gasto foi de {combustivel_gasto} litros, gerando um consumo médio do veículo de {consumo_medio:.2f} km/l\")"
   ]
  },
  {
   "cell_type": "markdown",
   "id": "adc42b3c",
   "metadata": {},
   "source": [
    "Atividade finalizada"
   ]
  }
 ],
 "metadata": {
  "kernelspec": {
   "display_name": "Python 3",
   "language": "python",
   "name": "python3"
  },
  "language_info": {
   "codemirror_mode": {
    "name": "ipython",
    "version": 3
   },
   "file_extension": ".py",
   "mimetype": "text/x-python",
   "name": "python",
   "nbconvert_exporter": "python",
   "pygments_lexer": "ipython3",
   "version": "3.13.2"
  }
 },
 "nbformat": 4,
 "nbformat_minor": 5
}
