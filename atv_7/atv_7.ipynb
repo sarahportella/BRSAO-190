{
 "cells": [
  {
   "cell_type": "markdown",
   "id": "84e4f47d",
   "metadata": {},
   "source": [
    "1- Processamento de Logs de Treinamento  \n",
    "Crie um programa que analisa um arquivo CSV contendo dados de execução de um processo de treinamento. O programa deve:\n",
    "\n",
    "* Solicitar ao usuário o nome do arquivo CSV (ex: logs_treinamento.csv).  \n",
    "* Ler os dados usando a biblioteca `pandas`.  \n",
    "* Calcular a média e o desvio padrão da coluna `tempo_execucao`.  \n",
    "* Exibir os resultados com duas casas decimais.  \n",
    "* Tratar erros como arquivo inexistente ou formatação incorreta.\n",
    "\n",
    "Dica: Use `df['coluna'].mean()` e `df['coluna'].std()` para obter os resultados estatísticos."
   ]
  },
  {
   "cell_type": "markdown",
   "id": "b648333a",
   "metadata": {},
   "source": [
    "2- Escrita de Arquivo CSV  \n",
    "Crie um programa que escreve dados de pessoas (nome, idade e cidade) em um arquivo CSV. Para isso:\n",
    "\n",
    "* Crie uma lista de listas com dados fictícios de pelo menos três pessoas.  \n",
    "* Solicite ao usuário o nome do arquivo CSV onde os dados serão salvos.  \n",
    "* Escreva os dados usando o módulo `csv`, com cabeçalhos apropriados.  \n",
    "* Confirme a gravação exibindo uma mensagem com o nome do arquivo.  \n",
    "* Trate possíveis erros de escrita de arquivo.\n",
    "\n",
    "Dica: Use `csv.writer()` para escrever os dados linha por linha."
   ]
  },
  {
   "cell_type": "code",
   "execution_count": null,
   "id": "f61564d3",
   "metadata": {},
   "outputs": [],
   "source": [
    "import csv\n",
    "\n",
    "pessoas = []\n",
    "pessoas.append([\"Ana\", \"20\", \"São Paulo\"])\n",
    "pessoas.append([\"João\", \"25\", \"Rio de Janeiro\"])\n",
    "pessoas.append([\"Maria\", \"22\", \"Belo Horizonte\"])\n",
    "pessoas.append([\"Carlos\", \"30\", \"Curitiba\"])\n",
    "\n",
    "print(\"Qual o nome do seu arquivo CSV?\")\n",
    "nome_arquivo = input(\">\")\n",
    "\n",
    "if not nome_arquivo.endswith('.csv'):\n",
    "    nome_arquivo += '.csv'\n",
    "\n",
    "\n",
    "try:\n",
    "    with open(nome_arquivo, mode='w', newline='') as arquivo_csv:\n",
    "        escritor = csv.writer(arquivo_csv)\n",
    "        escritor.writerow([\"Nome\", \"Idade\", \"Cidade\"])  # Cabeçalho\n",
    "        for pessoa in pessoas:\n",
    "            escritor.writerow(pessoa)\n",
    "        print(f\"Arquivo {nome_arquivo} foi atualizado com sucesso!\")\n",
    "except FileNotFoundError:\n",
    "    print(f\"Erro: O arquivo {nome_arquivo} não foi encontrado.\")\n",
    "except PermissionError:\n",
    "    print(f\"Sem permissão para ler o arquivo {nome_arquivo}.\")"
   ]
  },
  {
   "cell_type": "markdown",
   "id": "e06bd159",
   "metadata": {},
   "source": [
    "3- Leitura de Arquivo CSV  \n",
    "Desenvolva um programa que lê os dados de um arquivo CSV e imprime cada linha na tela. Para isso:\n",
    "\n",
    "* Solicite ao usuário o nome do arquivo CSV a ser lido.  \n",
    "* Utilize o módulo `csv` para abrir o arquivo e ler os dados.  \n",
    "* Exiba cada linha completa como uma lista.  \n",
    "* Trate erros como arquivo inexistente ou problemas na leitura.\n",
    "\n",
    "Dica: Use `csv.reader()` para ler e percorrer as linhas do arquivo."
   ]
  },
  {
   "cell_type": "code",
   "execution_count": null,
   "id": "ce4614a1",
   "metadata": {},
   "outputs": [],
   "source": [
    "import csv\n",
    "\n",
    "print(\"Qual o nome do seu arquivo CSV?\")\n",
    "arquivo = input(\">\")\n",
    "\n",
    "if not arquivo.endswith('.csv'):\n",
    "    arquivo += '.csv'\n",
    "\n",
    "try:\n",
    "    with open(arquivo, mode='r', newline='') as arquivo_csv:\n",
    "        leitor = csv.reader(arquivo_csv)\n",
    "        conteudo = []\n",
    "        for linha in leitor:\n",
    "            conteudo.append(linha)\n",
    "            print(linha)\n",
    "except FileNotFoundError:\n",
    "    print(f\"Erro: O arquivo {arquivo} não foi encontrado.\")\n",
    "except PermissionError:\n",
    "    print(\"Sem permissão para ler o arquivo.\")\n",
    "except OSError as erro:\n",
    "    print(f\"Erro do sistema operacional: {erro}\")\n",
    "except csv.Error as erro_csv:\n",
    "    print(f\"Erro de leitura CSV: {erro_csv}\")"
   ]
  },
  {
   "cell_type": "markdown",
   "id": "88a0b4e7",
   "metadata": {},
   "source": [
    "4- Leitura e Escrita de Arquivo JSON  \n",
    "Desenvolva um programa que cria um dicionário com dados de uma pessoa e salva esses dados em um arquivo JSON. Em seguida, o programa deve ler o mesmo arquivo e exibir o conteúdo. Para isso:\n",
    "\n",
    "* Crie um dicionário com pelo menos três campos (ex: nome, idade, cidade).  \n",
    "* Solicite ao usuário o nome do arquivo JSON.  \n",
    "* Salve os dados no arquivo usando o módulo `json`.  \n",
    "* Após salvar, leia o mesmo arquivo e imprima os dados carregados.  \n",
    "* Trate possíveis erros como ausência do arquivo ou problemas na escrita.\n",
    "\n",
    "Dica: Use `json.dump()` para escrever e `json.load()` para ler o arquivo."
   ]
  },
  {
   "cell_type": "code",
   "execution_count": null,
   "id": "dbcb1173",
   "metadata": {},
   "outputs": [],
   "source": [
    "import json\n",
    "\n",
    "print(\"Qual o nome do seu arquivo JSON?\")\n",
    "arquivo = input(\">\")\n",
    "\n",
    "if not arquivo.endswith('.json'):\n",
    "    arquivo += '.json' \n",
    "\n",
    "pessoa = {\n",
    "    'nome': 'Ana',\n",
    "    'idade': '30',\n",
    "    'cidade': 'São Paulo'\n",
    "}\n",
    "\n",
    "try:\n",
    "    with open(arquivo, 'w') as arqs:\n",
    "        json.dump(pessoa, arqs, indent=4)\n",
    "\n",
    "    with open(arquivo, 'r') as arqs:\n",
    "        conteudo = json.load(arqs)\n",
    "        print(conteudo)\n",
    "except FileNotFoundError:\n",
    "    print(f\"Arquivo {arquivo} não encontrado.\")\n",
    "except json.JSONDecodeError:\n",
    "    print(f\"Erro ao decodificar o JSON no arquivo {arquivo}.\")"
   ]
  }
 ],
 "metadata": {
  "kernelspec": {
   "display_name": "Python 3",
   "language": "python",
   "name": "python3"
  },
  "language_info": {
   "name": "python",
   "version": "3.13.2"
  }
 },
 "nbformat": 4,
 "nbformat_minor": 5
}
