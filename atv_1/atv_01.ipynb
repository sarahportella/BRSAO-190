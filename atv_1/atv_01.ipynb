{
 "cells": [
  {
   "cell_type": "markdown",
   "id": "d19d2aba",
   "metadata": {},
   "source": [
    "1- Programa de Saudação\n",
    "* Crie um programa que imprima a mensagem \"Olá, mundo!\" na tela."
   ]
  },
  {
   "cell_type": "code",
   "execution_count": 1,
   "id": "e80e70a4",
   "metadata": {},
   "outputs": [
    {
     "name": "stdout",
     "output_type": "stream",
     "text": [
      "Olá, mundo\n"
     ]
    }
   ],
   "source": [
    "#1- Programa de Saudação. Crie um programa que imprima a mensagem \"Olá, mundo!\" na tela.\n",
    "print(\"Olá, mundo\")"
   ]
  },
  {
   "cell_type": "markdown",
   "id": "e567bfd3",
   "metadata": {},
   "source": [
    "2- Calculadora de Soma\n",
    "* Desenvolva um programa que soma dois números. Use as variáveis numero1 = 12 e numero2 = 14. O programa deve calcular a soma e exibir o resultado."
   ]
  },
  {
   "cell_type": "code",
   "execution_count": 2,
   "id": "da1af0e6",
   "metadata": {},
   "outputs": [
    {
     "name": "stdout",
     "output_type": "stream",
     "text": [
      "A soma de 12 e 14 é: 26\n"
     ]
    }
   ],
   "source": [
    "numero1 = 12\n",
    "numero2 = 14\n",
    "soma = numero1 + numero2\n",
    "print(f\"A soma de\", numero1, \"e\", numero2, \"é:\", soma)"
   ]
  },
  {
   "cell_type": "markdown",
   "id": "3ecc5568",
   "metadata": {},
   "source": [
    "3- Calculadora de Volume\n",
    "* Crie um programa que calcula o volume de uma caixa retangular. Use as seguintes dimensões:\n",
    "\n",
    "* Comprimento: 12 cm\n",
    "* Largura: 14 cm\n",
    "* Altura: 20 cm\n",
    "O programa deve calcular o volume e exibir o resultado em cm³."
   ]
  },
  {
   "cell_type": "code",
   "execution_count": 3,
   "id": "09b1743c",
   "metadata": {},
   "outputs": [
    {
     "name": "stdout",
     "output_type": "stream",
     "text": [
      "O volume é: 3360 cm³\n"
     ]
    }
   ],
   "source": [
    "comprimento = 12\n",
    "largura = 14\n",
    "altura = 20\n",
    "volume = comprimento * largura * altura\n",
    "print(f\"O volume é: {volume} cm³\")\n"
   ]
  },
  {
   "cell_type": "markdown",
   "id": "17a1b650",
   "metadata": {},
   "source": [
    "4- Calculadora de Preço Total\n",
    "* Desenvolva um programa que calcula o preço total de uma compra. Use as seguintes informações:\n",
    "\n",
    "* Nome do produto: \"Cadeira Infantil\"\n",
    "* Preço unitário: R$ 12.40\n",
    "* Quantidade: 3\n",
    "O programa deve calcular o preço total e exibir todas as informações, incluindo o resultado final."
   ]
  },
  {
   "cell_type": "code",
   "execution_count": 11,
   "id": "8dd22c0d",
   "metadata": {},
   "outputs": [
    {
     "name": "stdout",
     "output_type": "stream",
     "text": [
      "O total a pagar por 3 unidades de Cadeira Infantil, sendo cada uma o valor de R$12.4, resultando em R$37.2 \n"
     ]
    }
   ],
   "source": [
    "nome_do_produto = \"Cadeira Infantil\"\n",
    "preco_unitário = 12.40\n",
    "quantidade = 3\n",
    "total = preço_unitário * quantidade\n",
    "print(f\"O total a pagar por {quantidade} unidades de {nome_do_produto}, sendo cada uma o valor de R${preco_unitário}, resultando em R${total} \")"
   ]
  }
 ],
 "metadata": {
  "kernelspec": {
   "display_name": "Python 3",
   "language": "python",
   "name": "python3"
  },
  "language_info": {
   "codemirror_mode": {
    "name": "ipython",
    "version": 3
   },
   "file_extension": ".py",
   "mimetype": "text/x-python",
   "name": "python",
   "nbconvert_exporter": "python",
   "pygments_lexer": "ipython3",
   "version": "3.12.6"
  }
 },
 "nbformat": 4,
 "nbformat_minor": 5
}
