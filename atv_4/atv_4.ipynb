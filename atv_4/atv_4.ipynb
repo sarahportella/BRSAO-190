{
 "cells": [
  {
   "cell_type": "markdown",
   "id": "831946c8",
   "metadata": {},
   "source": [
    "1- Calculadora Simples\n",
    "Crie um programa que simule uma calculadora básica com as seguintes funcionalidades:\n",
    "\n",
    "* Solicite ao usuário dois números reais.  \n",
    "* Peça a operação desejada (+, -, *, /).  \n",
    "* Realize a operação escolhida e exiba o resultado.  \n",
    "* Trate divisões por zero e operações inválidas com mensagens apropriadas. \n",
    "O programa deve continuar solicitando entradas até que uma operação válida seja realizada com sucesso."
   ]
  },
  {
   "cell_type": "code",
   "execution_count": null,
   "id": "780bfd37",
   "metadata": {},
   "outputs": [],
   "source": [
    "print('Bem-vindo à calculadora simples!')\n",
    "while True:\n",
    "\n",
    "    #Solicita o primeiro número\n",
    "    print('Digite o primeiro número da operação:') \n",
    "\n",
    "    #Verifica se o input é um número válido\n",
    "    try:\n",
    "        num_1 = float(input('> '))\n",
    "    except ValueError:\n",
    "        print('Por favor, insira um número válido.')\n",
    "        continue\n",
    "\n",
    "    #Solicita o segundo número\n",
    "    print('Digite o segundo número da operação:')\n",
    "    while True:\n",
    "        #Verifica se o input é um número válido\n",
    "        try:\n",
    "            num_2 = float(input('> '))\n",
    "            break\n",
    "        except ValueError:\n",
    "            print('Por favor, insira um número válido.')\n",
    "            continue\n",
    "\n",
    "    #Solicita a operação\n",
    "    print('Digite a operação desejada: 1 para adição, 2 para subtração, 3 para multiplicação, 4 para divisão')\n",
    "    op = input('> ')\n",
    "    #Realiza a operação escolhida\n",
    "    if op == '1':\n",
    "        resultado = num_1 + num_2\n",
    "        print(f'O resultado da adição é: {resultado}')\n",
    "        break\n",
    "    elif op == '2':\n",
    "        resultado = num_1 - num_2\n",
    "        print(f'O resultado da subtração é: {resultado}')\n",
    "        break\n",
    "    elif op == '3':\n",
    "        resultado = num_1 * num_2\n",
    "        print(f'O resultado da multiplicação é: {resultado}')\n",
    "        break\n",
    "    elif op == '4':\n",
    "        try:\n",
    "            resultado = num_1 / num_2\n",
    "            print(f'O resultado da divisão é: {resultado}')\n",
    "            break\n",
    "        except ZeroDivisionError:\n",
    "            print('Erro: Divisão por zero não é permitida.')\n",
    "    else:\n",
    "        print('Insira um número válido de 1 a 4 para a operação.\\n')\n",
    "        print('Digite a operação desejada: 1 para adição, 2 para subtração, 3 para multiplicação, 4 para divisão')\n",
    "exit()\n"
   ]
  },
  {
   "cell_type": "markdown",
   "id": "6fab19d9",
   "metadata": {},
   "source": [
    "2- Registro de Notas e Cálculo da Média\n",
    "Desenvolva um programa para registrar notas de uma turma e calcular a média final. Siga as instruções abaixo:\n",
    "\n",
    "* O programa deve solicitar notas continuamente até o usuário digitar \"fim\".  \n",
    "* Somente notas entre 0 e 10 devem ser aceitas.  \n",
    "* Ao final, exiba a média da turma com duas casas decimais e o total de notas válidas registradas.  \n",
    "* Trate entradas inválidas com mensagens de erro.  "
   ]
  },
  {
   "cell_type": "code",
   "execution_count": null,
   "id": "1608ac71",
   "metadata": {},
   "outputs": [],
   "source": [
    "alunos=[]\n",
    "while True:\n",
    "    print(\"Digite a nota do aluno  ou 'fim' para encerrar:\")\n",
    "    entrada = input('> ').lower()\n",
    "    if entrada == 'fim':\n",
    "        break\n",
    "    else:\n",
    "        try:\n",
    "            nota = float(entrada)\n",
    "            if nota < 0 or nota > 10:\n",
    "                print('Nota inválida. Deve ser entre 0 e 10, tente novamente.')\n",
    "                continue\n",
    "            alunos.append(nota)\n",
    "        except ValueError:\n",
    "            print('Por favor, insira uma nota válida.')\n",
    "\n",
    "try:\n",
    "    media = sum(alunos) / len(alunos)\n",
    "    print(f'A média das notas é: {media:.2f}')\n",
    "except ZeroDivisionError:\n",
    "    print('Nenhuma nota foi inserida. Não é possível calcular a média.')"
   ]
  },
  {
   "cell_type": "markdown",
   "id": "f6e3b480",
   "metadata": {},
   "source": [
    "3- Verificador de Senhas Fortes\n",
    "Crie um programa que avalia a força de uma senha informada pelo usuário. O programa deve:\n",
    "\n",
    "* Solicitar a senha até que o usuário digite \"sair\".  \n",
    "* Verificar se a senha possui pelo menos 8 caracteres.  \n",
    "* Verificar se contém pelo menos um número.  \n",
    "* Informar se a senha é fraca ou forte.  \n",
    "* Encerrar o programa apenas quando a senha for forte ou se o usuário digitar \"sair\".  "
   ]
  },
  {
   "cell_type": "code",
   "execution_count": null,
   "id": "17a36cd1",
   "metadata": {},
   "outputs": [
    {
     "name": "stdout",
     "output_type": "stream",
     "text": [
      "Bem vendo ao verificador de senhas'\n",
      "Digite uma senha para verificar se é forte ou fraca:\n",
      "Ou digite 'sair' para encerrar o programa.\n"
     ]
    }
   ],
   "source": [
    "print(\"Bem vindo ao verificador de senhas\")\n",
    "while True:\n",
    "    print(\"Digite uma senha para verificar se é forte ou fraca:\")\n",
    "    print(\"Ou digite 'sair' para encerrar o programa.\")\n",
    "    senha = input('> ')\n",
    "    if senha.lower() == 'sair':\n",
    "        print(\"Programa encerrado.\")\n",
    "        break\n",
    "    else:\n",
    "        tam_ok , digito_ok, char_especial_ok = False, False, False\n",
    "        if len(senha) > 8:\n",
    "            tam_ok = True\n",
    "        for char in senha:\n",
    "            if char.isdigit():\n",
    "                digito_ok = True\n",
    "            if not char.isalnum():\n",
    "                    char_especial_ok = True\n",
    "    if (tam_ok and digito_ok and char_especial_ok):\n",
    "        print('Senha forte!')\n",
    "        break\n",
    "    else:\n",
    "        print('Senha fraca!')\n",
    "        if not tam_ok:\n",
    "            print('Senha deve ter mais de 8 caracteres.')\n",
    "        if not digito_ok:\n",
    "            print('Senha deve conter pelo menos 1 número.')\n",
    "        if not char_especial_ok:\n",
    "            print('Senha deve conter pelo menos 1 caractere especial.')\n",
    "        print('Tente novamente.')\n",
    "\n"
   ]
  },
  {
   "cell_type": "markdown",
   "id": "8e75115f",
   "metadata": {},
   "source": [
    "4- Analisador de Números Pares e Ímpares\n",
    "Desenvolva um programa que classifica números inteiros como pares ou ímpares. O programa deve:\n",
    "\n",
    "* Solicitar números inteiros até que o usuário digite \"fim\".  \n",
    "* Informar se o número digitado é par ou ímpar.  \n",
    "* Ao final, exibir a quantidade total de números pares e ímpares informados.  \n",
    "* Tratar entradas inválidas com mensagens de erro apropriadas.  "
   ]
  },
  {
   "cell_type": "code",
   "execution_count": null,
   "id": "420faec9",
   "metadata": {},
   "outputs": [],
   "source": [
    "print(\"Bem vindo ao analisador de números pares ou ímpares\")\n",
    "par, impar = 0, 0\n",
    "while True:\n",
    "    print(\"Digite um número para verificar se é par ou ímpar:\")\n",
    "    print(\"Ou digite 'fim' para encerrar o programa.\")\n",
    "    entrada = input('> ')\n",
    "    \n",
    "    #Verifica se o usuário deseja sair\n",
    "    if entrada.lower() == 'fim':\n",
    "        if (par == 0 and impar == 0):\n",
    "            print(\"Nenhum número foi inserido.\")\n",
    "        else:\n",
    "            print(f'Foram inseridos {par} números pares e {impar} números ímpares.')\n",
    "        break\n",
    "    #Verifica se o input é um número válido\n",
    "    else:\n",
    "        try:\n",
    "            entrada = float(entrada)\n",
    "            #Contabiliza se o número é par ou ímpar\n",
    "            if (entrada % 2) == 0:\n",
    "                print(f'O número {entrada} é par.')\n",
    "                par +=1\n",
    "            else:\n",
    "                print(f'O número {entrada} é ímpar.')\n",
    "                impar +=1\n",
    "        except ValueError:\n",
    "            print(\"Por favor, insira um número válido.\")\n",
    "            continue"
   ]
  }
 ],
 "metadata": {
  "kernelspec": {
   "display_name": "Python 3",
   "language": "python",
   "name": "python3"
  },
  "language_info": {
   "codemirror_mode": {
    "name": "ipython",
    "version": 3
   },
   "file_extension": ".py",
   "mimetype": "text/x-python",
   "name": "python",
   "nbconvert_exporter": "python",
   "pygments_lexer": "ipython3",
   "version": "3.13.2"
  }
 },
 "nbformat": 4,
 "nbformat_minor": 5
}
