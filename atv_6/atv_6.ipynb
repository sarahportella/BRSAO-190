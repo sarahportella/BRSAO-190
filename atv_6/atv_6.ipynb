{
 "cells": [
  {
   "cell_type": "markdown",
   "id": "7c849f9d",
   "metadata": {},
   "source": [
    "1- Gerador de Senhas Seguras  \n",
    "Crie um programa que gera senhas aleatórias com letras, números e caracteres especiais. Siga as instruções abaixo:\n",
    "\n",
    "* Solicite ao usuário o tamanho da senha desejada (por exemplo: 8, 12, 16 caracteres).  \n",
    "* A senha gerada deve conter letras maiúsculas, minúsculas, números e símbolos (ex: !@#$%&*).  \n",
    "* Exiba a senha gerada ao final do programa.  \n",
    "\n",
    "Dica: Use os módulos `random` e `string` para gerar os caracteres aleatórios."
   ]
  },
  {
   "cell_type": "code",
   "execution_count": null,
   "id": "1aff99ac",
   "metadata": {},
   "outputs": [],
   "source": [
    "import random as rd\n",
    "import string as st\n",
    "\n",
    "def gerar_senha(tam):\n",
    "    caracteres = st.ascii_letters + st.digits + st.punctuation\n",
    "    senha = ''.join(rd.choice(caracteres, k = tam))\n",
    "    return senha\n",
    "\n",
    "while True:\n",
    "    print(\"Digite a quantiddade de caracteres que deseja em sua senha:\")\n",
    "\n",
    "    try:\n",
    "        tam = int(input(\">\"))\n",
    "        if tam < 0:\n",
    "            break\n",
    "    except ValueError:\n",
    "        print(\"Por favor, digite um número válido.\")\n",
    "        continue\n",
    "senha = gerar_senha(tam)\n",
    "print\n",
    "\n"
   ]
  }
 ],
 "metadata": {
  "kernelspec": {
   "display_name": "Python 3",
   "language": "python",
   "name": "python3"
  },
  "language_info": {
   "name": "python",
   "version": "3.13.2"
  }
 },
 "nbformat": 4,
 "nbformat_minor": 5
}
