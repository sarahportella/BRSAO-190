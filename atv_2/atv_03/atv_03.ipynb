{
 "cells": [
  {
   "cell_type": "markdown",
   "id": "4239afb3",
   "metadata": {},
   "source": [
    "1- Classificador de Idade\n",
    "\n",
    "Crie um programa que solicite a idade do usuário e classifique-o \n",
    "em uma das seguintes categorias: \n",
    "\n",
    "*Criança (0-12 anos), \n",
    "*Adolescente (13-17 anos), \n",
    "*Adulto (18-59 anos) ou \n",
    "*Idoso (60 anos ou mais)."
   ]
  },
  {
   "cell_type": "code",
   "execution_count": null,
   "id": "660d61d1",
   "metadata": {},
   "outputs": [
    {
     "name": "stdout",
     "output_type": "stream",
     "text": [
      "Qual a sua idade?\n",
      "\n"
     ]
    }
   ],
   "source": [
    "print(\"Qual a sua idade?\\n\")\n",
    "idade = input(\">\")\n",
    "if int(idade) < 12 :\n",
    "    classificacao = \"Criança\"\n",
    "elif int(idade) < 18 :\n",
    "    classificacao = \"Adolescente\"\n",
    "elif int(idade) < 60 :\n",
    "    classificacao = \"Adulto\" \n",
    "elif int(idade) >= 60 :\n",
    "    classificacao = \"Idoso\"\n",
    "else:\n",
    "    classificacao = \"Desconhecido\"\n",
    "print(\"Sua faixa etária é:\", classificacao)"
   ]
  },
  {
   "cell_type": "markdown",
   "id": "fc970d01",
   "metadata": {},
   "source": [
    "2- Calculadora de IMC\n",
    "\n",
    "Desenvolva um programa que calcule o Índice de Massa Corporal (IMC) de uma pessoa. \n",
    "O programa deve solicitar o peso (em kg) e a altura (em metros) do usuário, \n",
    "calcular o IMC e fornecer a classificação de acordo com a tabela padrão de IMC.\n",
    "\n",
    "< 18.5: classificacao = \"Abaixo do peso\"\n",
    "< 25: classificacao = \"Peso normal\"\n",
    "< 30: classificacao = \"Sobrepeso\"\n",
    "Para os demais cenários: classificacao = \"Obeso\""
   ]
  },
  {
   "cell_type": "code",
   "execution_count": null,
   "id": "7f5d2661",
   "metadata": {},
   "outputs": [],
   "source": [
    "print(\"Qual seu peso em kg?\\n\")\n",
    "peso = input(\">\")\n",
    "print(\"Qual sua altura em metros?\\n\")\n",
    "altura = input(\">\")\n",
    "\n",
    "imc = round(float(peso) / (float(altura) ** 2),2)\n",
    "print(\"Seu IMC é:\", imc)"
   ]
  },
  {
   "cell_type": "markdown",
   "id": "43ca2429",
   "metadata": {},
   "source": [
    "3- Conversor de Temperatura\n",
    "Crie um programa que converta temperaturas entre Celsius, Fahrenheit e Kelvin. \n",
    "O usuário deve informar a temperatura, a unidade de origem e a unidade para qual deseja converter."
   ]
  },
  {
   "cell_type": "code",
   "execution_count": null,
   "id": "782b1f26",
   "metadata": {},
   "outputs": [],
   "source": [
    "print(\"Insira a temperatura\")\n",
    "temperatura = input(\">\")\n",
    "print(\"Insira a unidade de medida atual (C para Celsius, F para Fahrenheit, K para Kelvin)\")\n",
    "unidade = input(\">\").upper()\n",
    "print(\"Insira a unidade de medida para a conversão (C para Celsius, F para Fahrenheit, K para Kelvin)\")\n",
    "unidade_conversao = input(\">\").upper()\n",
    "\n",
    "if unidade == \"C\":\n",
    "    if unidade_conversao == \"F\":\n",
    "        temperatura_convertida = (float(temperatura) * 9/5) + 32\n",
    "    elif unidade_conversao == \"K\":\n",
    "        temperatura_convertida = float(temperatura) + 273.15\n",
    "elif unidade == \"F\":\n",
    "    if unidade_conversao == \"C\":\n",
    "        temperatura_convertida = (float(temperatura) - 32) * 5/9\n",
    "    elif unidade_conversao == \"K\":\n",
    "        temperatura_convertida = (float(temperatura) - 32) * 5/9 + 273.15\n",
    "elif unidade == \"K\":\n",
    "    if unidade_conversao == \"C\":\n",
    "        temperatura_convertida = float(temperatura) - 273.15\n",
    "    elif unidade_conversao == \"F\":\n",
    "        temperatura_convertida = (float(temperatura) - 273.15) * 9/5 + 32\n",
    "elif unidade == unidade_conversao:\n",
    "    temperatura_convertida = temperatura\n",
    "    \n",
    "print(f\"A temperatura convertida é: {temperatura_convertida} {unidade_conversao}\")"
   ]
  },
  {
   "cell_type": "markdown",
   "id": "e90b7ee7",
   "metadata": {},
   "source": [
    "4- Verificador de Ano Bissexto\n",
    "\n",
    "Faça um programa que determine se um ano inserido pelo usuário é bissexto ou não. \n",
    "Um ano é bissexto se for divisível por 4, exceto anos centenários (divisíveis por 100) que não são divisíveis por 400."
   ]
  },
  {
   "cell_type": "code",
   "execution_count": null,
   "id": "3058a062",
   "metadata": {},
   "outputs": [],
   "source": [
    "print(\"Insira o ano que deseja verificar se é bissexto\")\n",
    "ano = input(\">\")\n",
    "if (int(ano) % 4 == 0 and int(ano) % 100 != 0) or (int(ano) % 400 == 0):\n",
    "    print(f\"{ano} é um ano bissexto.\")\n",
    "else:\n",
    "    print(f\"{ano} não é um ano bissexto.\")"
   ]
  }
 ],
 "metadata": {
  "kernelspec": {
   "display_name": "Python 3",
   "language": "python",
   "name": "python3"
  },
  "language_info": {
   "codemirror_mode": {
    "name": "ipython",
    "version": 3
   },
   "file_extension": ".py",
   "mimetype": "text/x-python",
   "name": "python",
   "nbconvert_exporter": "python",
   "pygments_lexer": "ipython3",
   "version": "3.13.2"
  }
 },
 "nbformat": 4,
 "nbformat_minor": 5
}
