{
 "cells": [
  {
   "cell_type": "markdown",
   "id": "9dd25e5c",
   "metadata": {},
   "source": [
    "1- Calculadora de Gorjeta\n",
    "Crie um programa que calcula o valor da gorjeta a partir do total da conta e da porcentagem escolhida. Use as instruções abaixo:\n",
    "\n",
    "* Defina o valor da conta (ex: R$ 100,00).  \n",
    "* Informe a porcentagem da gorjeta (ex: 10%, 15%, 20%).  \n",
    "* O programa deve calcular o valor correspondente e exibir o resultado com duas casas decimais."
   ]
  },
  {
   "cell_type": "code",
   "execution_count": null,
   "id": "236c7e7f",
   "metadata": {},
   "outputs": [],
   "source": [
    "print(\"Defina o valor da conta:\")\n",
    "valor_conta = float(input())\n",
    "\n",
    "print(\"Defina o valor da porcentagem da gorjeta:\")\n",
    "porcentagem = float(input())\n",
    "valor_gorjeta = (valor_conta * porcentagem) / 100\n",
    "print(f\"O valor da conta é {valor_conta:.2f} e a gorjeta é {valor_gorjeta:.2f}\")"
   ]
  },
  {
   "cell_type": "code",
   "execution_count": null,
   "id": "d921983f",
   "metadata": {},
   "outputs": [],
   "source": [
    "2- Verificador de Palíndromos\n",
    "Crie um programa que verifica se uma palavra ou frase é um palíndromo, ou seja, se pode ser lida da mesma forma de trás para frente, desconsiderando espaços, acentos e pontuação. Para isso:\n",
    "\n",
    "*Solicite ao usuário uma palavra ou frase.\n",
    "*Desconsidere letras maiúsculas, espaços e sinais de pontuação.\n",
    "*Verifique se a frase é um palíndromo.\n",
    "*Exiba \"Sim\" se for palíndromo ou \"Não\" se não for.\n",
    "\n",
    "Exemplo: A frase \"A cara rajada da jararaca\" deve ser reconhecida como um palíndromo."
   ]
  },
  {
   "cell_type": "code",
   "execution_count": null,
   "id": "12f09492",
   "metadata": {},
   "outputs": [],
   "source": [
    "print(\"Digite uma palavra ou frase:\")\n",
    "entrada = input().lower().strip().replace(\" \", \"\")\n",
    "# remove pontuação\n",
    "import re\n",
    "entrada = re.sub(r'[^a-z]', '', entrada)\n",
    "\n",
    "if entrada == entrada[::-1]:\n",
    "    print(\"Sim\")\n",
    "else:\n",
    "    print(\"Não\")"
   ]
  },
  {
   "cell_type": "markdown",
   "id": "12d00a9e",
   "metadata": {},
   "source": [
    "3- Calculadora de Desconto em Produto\n",
    "Desenvolva um programa que aplica um desconto sobre o preço de um produto. O programa deve:\n",
    "\n",
    "* Solicitar o preço original do produto.  \n",
    "* Solicitar o percentual de desconto desejado.  \n",
    "* Calcular e exibir o preço final com desconto, arredondado para duas casas decimais."
   ]
  },
  {
   "cell_type": "code",
   "execution_count": null,
   "id": "75a89e79",
   "metadata": {},
   "outputs": [],
   "source": [
    "while True:\n",
    "    print(\"Insira o preço do produto:\")\n",
    "    try:\n",
    "        preco = float(input(\">\"))\n",
    "        while True:\n",
    "            print(\"Insira o desconto que seja aplicar:\")\n",
    "            try:\n",
    "                desconto = float(input(\">\").replace(\"%\",\"\"))\n",
    "                break\n",
    "            except ValueError:\n",
    "                print(\"Insira um valor adequado. Tente novamente\")\n",
    "                continue\n",
    "        break\n",
    "    except ValueError:\n",
    "        print(\"Insira um valor adequado. Tente novamente\")\n",
    "        continue\n",
    "valor_desconto = (preco * desconto) / 100\n",
    "valor_final = preco - valor_desconto\n",
    "print(f\"O valor do produto com desconto é: {valor_final:.2f}\")"
   ]
  },
  {
   "cell_type": "markdown",
   "id": "f4c5e2f6",
   "metadata": {},
   "source": [
    "4- Calculadora de Idade em Dias\n",
    "Crie um programa que calcula a idade aproximada de uma pessoa em dias. Para isso:\n",
    "\n",
    "* Solicite o ano de nascimento da pessoa.  \n",
    "* Considere o ano atual automaticamente.  \n",
    "* Calcule a idade em anos e transforme em dias (desconsidere anos bissextos).  \n",
    "* Exiba o resultado final."
   ]
  },
  {
   "cell_type": "code",
   "execution_count": null,
   "id": "447e625a",
   "metadata": {},
   "outputs": [],
   "source": [
    "import datetime\n",
    "\n",
    "ano_atual = datetime.datetime.now().year\n",
    "while True:\n",
    "    print(\"Insira o seu ano de nascimento:\")\n",
    "    try:\n",
    "        ano_nascimento = int(input(\">\"))\n",
    "        if ano_nascimento > ano_atual:\n",
    "            print(\"O ano de nascimento não pode ser maior que o ano atual.Tente novamente.\")\n",
    "            continue\n",
    "        break\n",
    "    except ValueError:\n",
    "        print(\"Insira um ano válido.\")\n",
    "        continue\n",
    "idade = ano_atual - ano_nascimento\n",
    "idade_dias = idade * 365\n",
    "print(f\"Você tem {idade} anos ou {idade_dias} dias de vida.\")"
   ]
  }
 ],
 "metadata": {
  "kernelspec": {
   "display_name": "Python 3",
   "language": "python",
   "name": "python3"
  },
  "language_info": {
   "codemirror_mode": {
    "name": "ipython",
    "version": 3
   },
   "file_extension": ".py",
   "mimetype": "text/x-python",
   "name": "python",
   "nbconvert_exporter": "python",
   "pygments_lexer": "ipython3",
   "version": "3.13.2"
  }
 },
 "nbformat": 4,
 "nbformat_minor": 5
}
